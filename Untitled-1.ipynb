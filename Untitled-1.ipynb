{
 "cells": [
  {
   "cell_type": "markdown",
   "metadata": {},
   "source": [
    "<b> Это текстовая версия курса по работе с Django + Postgres + Docker </b>"
   ]
  },
  {
   "cell_type": "markdown",
   "metadata": {},
   "source": [
    "Скачиваем и устанавливаем Docker Desktop https://www.docker.com/products/docker-desktop/ После установки докера скачайте и установите гит, а в VSCode надо установить расширения для Докера и Гита. Создайте новый репозиторий \"django_app\" в гитхаб (не забываем сделать README и .gitignore для питон) и скопируйте его в VSCode. Создаем файл requirements.txt в файле указываем\n",
    "Django==4.2.5\n",
    "djangorestframework==3.14.0\n",
    "psycopg==3.1.10\n",
    "\n",
    "Создаем Dockerfile в докерфайле прописываем\n",
    "FROM python:3.9-alpine3.16\n",
    "COPY requirements.txt /temp/requirements.txt\n",
    "COPY django_app /django_app\n",
    "WORKDIR /django_app\n",
    "EXPOSE 8000\n",
    "RUN apk add postgresql-client build-base postgresql-dev\n",
    "RUN pip install -r /temp/requirements.txt\n",
    "RUN adduser --disabled-password mlims-admin\n",
    "USER mlims-admin\n",
    "\n",
    "Создаем файл docker-compose.yml в файле прописываем\n",
    "services:\n",
    "  web-app:\n",
    "    build:\n",
    "      context: .\n",
    "    ports:\n",
    "      - \"8000:8000\"\n",
    "    volumes:\n",
    "      - ./django_app:/django_app\n",
    "    environment:\n",
    "      - DB_HOST=database\n",
    "      - DB_NAME=dbname\n",
    "      - DB_USER=dbuser\n",
    "      - DB_PASS=pass\n",
    "\n",
    "    command: >\n",
    "      sh -c \"python manage.py runserver 0.0.0.0:8000\"\n",
    "    depends_on:\n",
    "      - database\n",
    "\n",
    "  database:\n",
    "    image: postgres:14.6-alpine\n",
    "    environment:\n",
    "      - POSTGRES_DB=dbname\n",
    "      - POSTGRES_USER=dbuser\n",
    "      - POSTGRES_PASSWORD=pass\n"
   ]
  },
  {
   "cell_type": "markdown",
   "metadata": {},
   "source": [
    "Основные команды для выполнения:\n",
    "В терменале переходим в директорию проекта. Команда ls позволяет вывести содержимое дериктории. Собираем проект \n",
    "docker-compose build\n",
    "(сдесь выжно что web-app это сервис а не дериктория)\n",
    "docker-compose run --rm web-app sh -c \"django-admin startproject mlims\"\n",
    "Запускаем контейнер\n",
    "docker-compose up\n",
    "\n"
   ]
  }
 ],
 "metadata": {
  "kernelspec": {
   "display_name": "Python 3",
   "language": "python",
   "name": "python3"
  },
  "language_info": {
   "name": "python",
   "version": "3.11.3"
  },
  "orig_nbformat": 4
 },
 "nbformat": 4,
 "nbformat_minor": 2
}
